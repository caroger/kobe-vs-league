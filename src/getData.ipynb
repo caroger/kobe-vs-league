{
 "metadata": {
  "language_info": {
   "codemirror_mode": {
    "name": "ipython",
    "version": 3
   },
   "file_extension": ".py",
   "mimetype": "text/x-python",
   "name": "python",
   "nbconvert_exporter": "python",
   "pygments_lexer": "ipython3",
   "version": "3.8.5-final"
  },
  "orig_nbformat": 2,
  "kernelspec": {
   "name": "python3",
   "display_name": "Python 3",
   "language": "python"
  }
 },
 "nbformat": 4,
 "nbformat_minor": 2,
 "cells": [
  {
   "cell_type": "code",
   "execution_count": 47,
   "metadata": {},
   "outputs": [],
   "source": [
    "from nba_api.stats.static import players\n",
    "from nba_api.stats.endpoints import playergamelog\n",
    "from nba_api.stats.library.parameters import SeasonAll\n",
    "import pandas as pd "
   ]
  },
  {
   "cell_type": "code",
   "execution_count": 48,
   "metadata": {},
   "outputs": [],
   "source": [
    "player_dict = players.get_players()\n",
    "kobe = [player for player in player_dict if player['full_name'] == 'Kobe Bryant'][0]\n",
    "kobe_id = kobe['id']"
   ]
  },
  {
   "cell_type": "code",
   "execution_count": 49,
   "metadata": {},
   "outputs": [],
   "source": [
    "gamelog_kobe = playergamelog.PlayerGameLog(player_id=kobe_id, season = SeasonAll.all)"
   ]
  },
  {
   "cell_type": "code",
   "execution_count": 50,
   "metadata": {},
   "outputs": [],
   "source": [
    "df_kobe_games_all = gamelog_kobe.get_data_frames()[0]"
   ]
  },
  {
   "cell_type": "code",
   "execution_count": 62,
   "metadata": {},
   "outputs": [],
   "source": [
    "df_kobe_games_all['OPPPONENTS'] = df_kobe_games_all['MATCHUP'].apply(lambda x: x.split()[-1])"
   ]
  },
  {
   "cell_type": "code",
   "execution_count": 76,
   "metadata": {},
   "outputs": [
    {
     "output_type": "execute_result",
     "data": {
      "text/plain": [
       "LAC    69\n",
       "GSW    67\n",
       "MEM    67\n",
       "DEN    66\n",
       "OKC    65\n",
       "SAC    64\n",
       "MIN    64\n",
       "PHX    64\n",
       "POR    62\n",
       "SAS    61\n",
       "HOU    61\n",
       "DAL    60\n",
       "UTA    60\n",
       "NOP    41\n",
       "IND    34\n",
       "CLE    34\n",
       "NYK    34\n",
       "MIA    33\n",
       "TOR    33\n",
       "DET    33\n",
       "MIL    32\n",
       "PHI    32\n",
       "WAS    32\n",
       "CHI    31\n",
       "CHA    31\n",
       "BOS    31\n",
       "ORL    29\n",
       "ATL    29\n",
       "BKN    27\n",
       "Name: OPPPONENTS, dtype: int64"
      ]
     },
     "metadata": {},
     "execution_count": 76
    }
   ],
   "source": [
    "# clean up opponent abbreviation\n",
    "remap = {\"UTH\": \"UTA\", \"SAN\": \"SAS\", \"PHO\": \"PHX\",  \"NJN\": \"BKN\", \"NOK\": \"NOP\", \"NOH\":\"NOP\", \"SEA\": \"OKC\", \"CHH\": \"CHA\", \"VAN\": \"MEM\"}\n",
    "df_kobe_games_all['OPPPONENTS'].replace(remap, inplace=True)\n",
    "df_kobe_games_all['OPPPONENTS'].value_counts()"
   ]
  },
  {
   "cell_type": "code",
   "execution_count": null,
   "metadata": {},
   "outputs": [],
   "source": [
    "\n"
   ]
  },
  {
   "cell_type": "code",
   "execution_count": 73,
   "metadata": {},
   "outputs": [
    {
     "output_type": "execute_result",
     "data": {
      "text/plain": [
       "    SEASON_ID  Player_ID     Game_ID     GAME_DATE      MATCHUP WL  MIN  FGM  \\\n",
       "109     22012        977  0021201162  APR 09, 2013  LAL vs. NOH  W   41    9   \n",
       "123     22012        977  0021200906  MAR 06, 2013    LAL @ NOH  W   42   14   \n",
       "140     22012        977  0021200669  JAN 29, 2013  LAL vs. NOH  W   34    5   \n",
       "166     22012        977  0021200263  DEC 05, 2012    LAL @ NOH  W   34   10   \n",
       "191     22011        977  0021100769  MAR 31, 2012  LAL vs. NOH  W   38    3   \n",
       "200     22011        977  0021100631  MAR 14, 2012    LAL @ NOH  W   49   10   \n",
       "252     22010        977  0021001094  MAR 27, 2011  LAL vs. NOH  W   36   11   \n",
       "274     22010        977  0021000748  FEB 05, 2011    LAL @ NOH  W   43   10   \n",
       "288     22010        977  0021000535  JAN 07, 2011  LAL vs. NOH  W   39   10   \n",
       "293     22010        977  0021000467  DEC 29, 2010    LAL @ NOH  W   28    8   \n",
       "329     22009        977  0020901099  MAR 29, 2010    LAL @ NOH  L   41   10   \n",
       "381     22009        977  0020900258  DEC 01, 2009  LAL vs. NOH  W   33    5   \n",
       "391     22009        977  0020900097  NOV 08, 2009  LAL vs. NOH  W   34   11   \n",
       "425     22008        977  0020800821  FEB 20, 2009  LAL vs. NOH  W   45   13   \n",
       "447     22008        977  0020800513  JAN 06, 2009  LAL vs. NOH  L   42   14   \n",
       "452     22008        977  0020800417  DEC 23, 2008    LAL @ NOH  W   37    7   \n",
       "473     22008        977  0020800112  NOV 12, 2008    LAL @ NOH  W   38    5   \n",
       "482     22007        977  0020701187  APR 11, 2008  LAL vs. NOH  W   43    9   \n",
       "497     22007        977  0020700970  MAR 14, 2008    LAL @ NOH  L   38   10   \n",
       "528     22007        977  0020700515  JAN 09, 2008    LAL @ NOH  W   33    8   \n",
       "558     22007        977  0020700052  NOV 06, 2007  LAL vs. NOH  L   37   11   \n",
       "793     22003        977  0020301075  MAR 30, 2004  LAL vs. NOH  W   34    7   \n",
       "845     22003        977  0020300070  NOV 07, 2003    LAL @ NOH  L   37    4   \n",
       "894     22002        977  0020200546  JAN 15, 2003    LAL @ NOH  W   46   12   \n",
       "908     22002        977  0020200326  DEC 13, 2002  LAL vs. NOH  L   43    6   \n",
       "\n",
       "     FGA  FG_PCT  ...  REB  AST  STL  BLK  TOV  PF  PTS  PLUS_MINUS  \\\n",
       "109   18   0.500  ...    6    6    5    1    5   2   30           7   \n",
       "123   21   0.667  ...    7   12    0    1    6   0   42          16   \n",
       "140   12   0.417  ...    8   11    0    0    2   1   14          -5   \n",
       "166   17   0.588  ...    6    4    3    0    1   1   29          15   \n",
       "191   21   0.143  ...    3    5    3    0    1   4   11           4   \n",
       "200   23   0.435  ...    4    5    2    0    4   1   33           8   \n",
       "252   25   0.440  ...    3    5    2    0    0   2   30          21   \n",
       "274   22   0.455  ...    9    5    0    1    1   3   32          11   \n",
       "288   19   0.526  ...    1    4    1    0    0   2   25           1   \n",
       "293   14   0.571  ...    3    4    2    0    7   5   20           9   \n",
       "329   18   0.556  ...    5    6    1    0    3   5   31          -9   \n",
       "381   11   0.455  ...    3    4    2    0    1   3   18          16   \n",
       "391   21   0.524  ...    2    1    1    0    5   3   28          20   \n",
       "425   30   0.433  ...    5    5    1    1    2   2   39          19   \n",
       "447   22   0.636  ...    4    7    0    1    4   1   39          -8   \n",
       "452   18   0.389  ...    6    4    0    0    0   2   26          14   \n",
       "473   15   0.333  ...    4    6    0    0    2   4   20           4   \n",
       "482   17   0.529  ...   10    8    2    0    1   3   29           0   \n",
       "497   23   0.435  ...    9    3    1    0    3   6   36         -10   \n",
       "528   16   0.500  ...    7    7    3    0    1   0   19          16   \n",
       "558   20   0.550  ...    6    7    0    3    4   5   28         -17   \n",
       "793   17   0.412  ...    3    6    1    0    4   3   23          12   \n",
       "845   14   0.286  ...    4    3    1    0    3   3   11         -24   \n",
       "894   28   0.429  ...   11    4    2    2    2   1   36           9   \n",
       "908   16   0.375  ...    2    5    1    0    2   1   16         -14   \n",
       "\n",
       "     VIDEO_AVAILABLE  OPPPONENTS  \n",
       "109                1         NOH  \n",
       "123                1         NOH  \n",
       "140                1         NOH  \n",
       "166                1         NOH  \n",
       "191                0         NOH  \n",
       "200                0         NOH  \n",
       "252                0         NOH  \n",
       "274                0         NOH  \n",
       "288                0         NOH  \n",
       "293                0         NOH  \n",
       "329                0         NOH  \n",
       "381                0         NOH  \n",
       "391                0         NOH  \n",
       "425                0         NOH  \n",
       "447                0         NOH  \n",
       "452                0         NOH  \n",
       "473                0         NOH  \n",
       "482                0         NOH  \n",
       "497                0         NOH  \n",
       "528                0         NOH  \n",
       "558                0         NOH  \n",
       "793                0         NOH  \n",
       "845                0         NOH  \n",
       "894                0         NOH  \n",
       "908                0         NOH  \n",
       "\n",
       "[25 rows x 28 columns]"
      ],
      "text/html": "<div>\n<style scoped>\n    .dataframe tbody tr th:only-of-type {\n        vertical-align: middle;\n    }\n\n    .dataframe tbody tr th {\n        vertical-align: top;\n    }\n\n    .dataframe thead th {\n        text-align: right;\n    }\n</style>\n<table border=\"1\" class=\"dataframe\">\n  <thead>\n    <tr style=\"text-align: right;\">\n      <th></th>\n      <th>SEASON_ID</th>\n      <th>Player_ID</th>\n      <th>Game_ID</th>\n      <th>GAME_DATE</th>\n      <th>MATCHUP</th>\n      <th>WL</th>\n      <th>MIN</th>\n      <th>FGM</th>\n      <th>FGA</th>\n      <th>FG_PCT</th>\n      <th>...</th>\n      <th>REB</th>\n      <th>AST</th>\n      <th>STL</th>\n      <th>BLK</th>\n      <th>TOV</th>\n      <th>PF</th>\n      <th>PTS</th>\n      <th>PLUS_MINUS</th>\n      <th>VIDEO_AVAILABLE</th>\n      <th>OPPPONENTS</th>\n    </tr>\n  </thead>\n  <tbody>\n    <tr>\n      <th>109</th>\n      <td>22012</td>\n      <td>977</td>\n      <td>0021201162</td>\n      <td>APR 09, 2013</td>\n      <td>LAL vs. NOH</td>\n      <td>W</td>\n      <td>41</td>\n      <td>9</td>\n      <td>18</td>\n      <td>0.500</td>\n      <td>...</td>\n      <td>6</td>\n      <td>6</td>\n      <td>5</td>\n      <td>1</td>\n      <td>5</td>\n      <td>2</td>\n      <td>30</td>\n      <td>7</td>\n      <td>1</td>\n      <td>NOH</td>\n    </tr>\n    <tr>\n      <th>123</th>\n      <td>22012</td>\n      <td>977</td>\n      <td>0021200906</td>\n      <td>MAR 06, 2013</td>\n      <td>LAL @ NOH</td>\n      <td>W</td>\n      <td>42</td>\n      <td>14</td>\n      <td>21</td>\n      <td>0.667</td>\n      <td>...</td>\n      <td>7</td>\n      <td>12</td>\n      <td>0</td>\n      <td>1</td>\n      <td>6</td>\n      <td>0</td>\n      <td>42</td>\n      <td>16</td>\n      <td>1</td>\n      <td>NOH</td>\n    </tr>\n    <tr>\n      <th>140</th>\n      <td>22012</td>\n      <td>977</td>\n      <td>0021200669</td>\n      <td>JAN 29, 2013</td>\n      <td>LAL vs. NOH</td>\n      <td>W</td>\n      <td>34</td>\n      <td>5</td>\n      <td>12</td>\n      <td>0.417</td>\n      <td>...</td>\n      <td>8</td>\n      <td>11</td>\n      <td>0</td>\n      <td>0</td>\n      <td>2</td>\n      <td>1</td>\n      <td>14</td>\n      <td>-5</td>\n      <td>1</td>\n      <td>NOH</td>\n    </tr>\n    <tr>\n      <th>166</th>\n      <td>22012</td>\n      <td>977</td>\n      <td>0021200263</td>\n      <td>DEC 05, 2012</td>\n      <td>LAL @ NOH</td>\n      <td>W</td>\n      <td>34</td>\n      <td>10</td>\n      <td>17</td>\n      <td>0.588</td>\n      <td>...</td>\n      <td>6</td>\n      <td>4</td>\n      <td>3</td>\n      <td>0</td>\n      <td>1</td>\n      <td>1</td>\n      <td>29</td>\n      <td>15</td>\n      <td>1</td>\n      <td>NOH</td>\n    </tr>\n    <tr>\n      <th>191</th>\n      <td>22011</td>\n      <td>977</td>\n      <td>0021100769</td>\n      <td>MAR 31, 2012</td>\n      <td>LAL vs. NOH</td>\n      <td>W</td>\n      <td>38</td>\n      <td>3</td>\n      <td>21</td>\n      <td>0.143</td>\n      <td>...</td>\n      <td>3</td>\n      <td>5</td>\n      <td>3</td>\n      <td>0</td>\n      <td>1</td>\n      <td>4</td>\n      <td>11</td>\n      <td>4</td>\n      <td>0</td>\n      <td>NOH</td>\n    </tr>\n    <tr>\n      <th>200</th>\n      <td>22011</td>\n      <td>977</td>\n      <td>0021100631</td>\n      <td>MAR 14, 2012</td>\n      <td>LAL @ NOH</td>\n      <td>W</td>\n      <td>49</td>\n      <td>10</td>\n      <td>23</td>\n      <td>0.435</td>\n      <td>...</td>\n      <td>4</td>\n      <td>5</td>\n      <td>2</td>\n      <td>0</td>\n      <td>4</td>\n      <td>1</td>\n      <td>33</td>\n      <td>8</td>\n      <td>0</td>\n      <td>NOH</td>\n    </tr>\n    <tr>\n      <th>252</th>\n      <td>22010</td>\n      <td>977</td>\n      <td>0021001094</td>\n      <td>MAR 27, 2011</td>\n      <td>LAL vs. NOH</td>\n      <td>W</td>\n      <td>36</td>\n      <td>11</td>\n      <td>25</td>\n      <td>0.440</td>\n      <td>...</td>\n      <td>3</td>\n      <td>5</td>\n      <td>2</td>\n      <td>0</td>\n      <td>0</td>\n      <td>2</td>\n      <td>30</td>\n      <td>21</td>\n      <td>0</td>\n      <td>NOH</td>\n    </tr>\n    <tr>\n      <th>274</th>\n      <td>22010</td>\n      <td>977</td>\n      <td>0021000748</td>\n      <td>FEB 05, 2011</td>\n      <td>LAL @ NOH</td>\n      <td>W</td>\n      <td>43</td>\n      <td>10</td>\n      <td>22</td>\n      <td>0.455</td>\n      <td>...</td>\n      <td>9</td>\n      <td>5</td>\n      <td>0</td>\n      <td>1</td>\n      <td>1</td>\n      <td>3</td>\n      <td>32</td>\n      <td>11</td>\n      <td>0</td>\n      <td>NOH</td>\n    </tr>\n    <tr>\n      <th>288</th>\n      <td>22010</td>\n      <td>977</td>\n      <td>0021000535</td>\n      <td>JAN 07, 2011</td>\n      <td>LAL vs. NOH</td>\n      <td>W</td>\n      <td>39</td>\n      <td>10</td>\n      <td>19</td>\n      <td>0.526</td>\n      <td>...</td>\n      <td>1</td>\n      <td>4</td>\n      <td>1</td>\n      <td>0</td>\n      <td>0</td>\n      <td>2</td>\n      <td>25</td>\n      <td>1</td>\n      <td>0</td>\n      <td>NOH</td>\n    </tr>\n    <tr>\n      <th>293</th>\n      <td>22010</td>\n      <td>977</td>\n      <td>0021000467</td>\n      <td>DEC 29, 2010</td>\n      <td>LAL @ NOH</td>\n      <td>W</td>\n      <td>28</td>\n      <td>8</td>\n      <td>14</td>\n      <td>0.571</td>\n      <td>...</td>\n      <td>3</td>\n      <td>4</td>\n      <td>2</td>\n      <td>0</td>\n      <td>7</td>\n      <td>5</td>\n      <td>20</td>\n      <td>9</td>\n      <td>0</td>\n      <td>NOH</td>\n    </tr>\n    <tr>\n      <th>329</th>\n      <td>22009</td>\n      <td>977</td>\n      <td>0020901099</td>\n      <td>MAR 29, 2010</td>\n      <td>LAL @ NOH</td>\n      <td>L</td>\n      <td>41</td>\n      <td>10</td>\n      <td>18</td>\n      <td>0.556</td>\n      <td>...</td>\n      <td>5</td>\n      <td>6</td>\n      <td>1</td>\n      <td>0</td>\n      <td>3</td>\n      <td>5</td>\n      <td>31</td>\n      <td>-9</td>\n      <td>0</td>\n      <td>NOH</td>\n    </tr>\n    <tr>\n      <th>381</th>\n      <td>22009</td>\n      <td>977</td>\n      <td>0020900258</td>\n      <td>DEC 01, 2009</td>\n      <td>LAL vs. NOH</td>\n      <td>W</td>\n      <td>33</td>\n      <td>5</td>\n      <td>11</td>\n      <td>0.455</td>\n      <td>...</td>\n      <td>3</td>\n      <td>4</td>\n      <td>2</td>\n      <td>0</td>\n      <td>1</td>\n      <td>3</td>\n      <td>18</td>\n      <td>16</td>\n      <td>0</td>\n      <td>NOH</td>\n    </tr>\n    <tr>\n      <th>391</th>\n      <td>22009</td>\n      <td>977</td>\n      <td>0020900097</td>\n      <td>NOV 08, 2009</td>\n      <td>LAL vs. NOH</td>\n      <td>W</td>\n      <td>34</td>\n      <td>11</td>\n      <td>21</td>\n      <td>0.524</td>\n      <td>...</td>\n      <td>2</td>\n      <td>1</td>\n      <td>1</td>\n      <td>0</td>\n      <td>5</td>\n      <td>3</td>\n      <td>28</td>\n      <td>20</td>\n      <td>0</td>\n      <td>NOH</td>\n    </tr>\n    <tr>\n      <th>425</th>\n      <td>22008</td>\n      <td>977</td>\n      <td>0020800821</td>\n      <td>FEB 20, 2009</td>\n      <td>LAL vs. NOH</td>\n      <td>W</td>\n      <td>45</td>\n      <td>13</td>\n      <td>30</td>\n      <td>0.433</td>\n      <td>...</td>\n      <td>5</td>\n      <td>5</td>\n      <td>1</td>\n      <td>1</td>\n      <td>2</td>\n      <td>2</td>\n      <td>39</td>\n      <td>19</td>\n      <td>0</td>\n      <td>NOH</td>\n    </tr>\n    <tr>\n      <th>447</th>\n      <td>22008</td>\n      <td>977</td>\n      <td>0020800513</td>\n      <td>JAN 06, 2009</td>\n      <td>LAL vs. NOH</td>\n      <td>L</td>\n      <td>42</td>\n      <td>14</td>\n      <td>22</td>\n      <td>0.636</td>\n      <td>...</td>\n      <td>4</td>\n      <td>7</td>\n      <td>0</td>\n      <td>1</td>\n      <td>4</td>\n      <td>1</td>\n      <td>39</td>\n      <td>-8</td>\n      <td>0</td>\n      <td>NOH</td>\n    </tr>\n    <tr>\n      <th>452</th>\n      <td>22008</td>\n      <td>977</td>\n      <td>0020800417</td>\n      <td>DEC 23, 2008</td>\n      <td>LAL @ NOH</td>\n      <td>W</td>\n      <td>37</td>\n      <td>7</td>\n      <td>18</td>\n      <td>0.389</td>\n      <td>...</td>\n      <td>6</td>\n      <td>4</td>\n      <td>0</td>\n      <td>0</td>\n      <td>0</td>\n      <td>2</td>\n      <td>26</td>\n      <td>14</td>\n      <td>0</td>\n      <td>NOH</td>\n    </tr>\n    <tr>\n      <th>473</th>\n      <td>22008</td>\n      <td>977</td>\n      <td>0020800112</td>\n      <td>NOV 12, 2008</td>\n      <td>LAL @ NOH</td>\n      <td>W</td>\n      <td>38</td>\n      <td>5</td>\n      <td>15</td>\n      <td>0.333</td>\n      <td>...</td>\n      <td>4</td>\n      <td>6</td>\n      <td>0</td>\n      <td>0</td>\n      <td>2</td>\n      <td>4</td>\n      <td>20</td>\n      <td>4</td>\n      <td>0</td>\n      <td>NOH</td>\n    </tr>\n    <tr>\n      <th>482</th>\n      <td>22007</td>\n      <td>977</td>\n      <td>0020701187</td>\n      <td>APR 11, 2008</td>\n      <td>LAL vs. NOH</td>\n      <td>W</td>\n      <td>43</td>\n      <td>9</td>\n      <td>17</td>\n      <td>0.529</td>\n      <td>...</td>\n      <td>10</td>\n      <td>8</td>\n      <td>2</td>\n      <td>0</td>\n      <td>1</td>\n      <td>3</td>\n      <td>29</td>\n      <td>0</td>\n      <td>0</td>\n      <td>NOH</td>\n    </tr>\n    <tr>\n      <th>497</th>\n      <td>22007</td>\n      <td>977</td>\n      <td>0020700970</td>\n      <td>MAR 14, 2008</td>\n      <td>LAL @ NOH</td>\n      <td>L</td>\n      <td>38</td>\n      <td>10</td>\n      <td>23</td>\n      <td>0.435</td>\n      <td>...</td>\n      <td>9</td>\n      <td>3</td>\n      <td>1</td>\n      <td>0</td>\n      <td>3</td>\n      <td>6</td>\n      <td>36</td>\n      <td>-10</td>\n      <td>0</td>\n      <td>NOH</td>\n    </tr>\n    <tr>\n      <th>528</th>\n      <td>22007</td>\n      <td>977</td>\n      <td>0020700515</td>\n      <td>JAN 09, 2008</td>\n      <td>LAL @ NOH</td>\n      <td>W</td>\n      <td>33</td>\n      <td>8</td>\n      <td>16</td>\n      <td>0.500</td>\n      <td>...</td>\n      <td>7</td>\n      <td>7</td>\n      <td>3</td>\n      <td>0</td>\n      <td>1</td>\n      <td>0</td>\n      <td>19</td>\n      <td>16</td>\n      <td>0</td>\n      <td>NOH</td>\n    </tr>\n    <tr>\n      <th>558</th>\n      <td>22007</td>\n      <td>977</td>\n      <td>0020700052</td>\n      <td>NOV 06, 2007</td>\n      <td>LAL vs. NOH</td>\n      <td>L</td>\n      <td>37</td>\n      <td>11</td>\n      <td>20</td>\n      <td>0.550</td>\n      <td>...</td>\n      <td>6</td>\n      <td>7</td>\n      <td>0</td>\n      <td>3</td>\n      <td>4</td>\n      <td>5</td>\n      <td>28</td>\n      <td>-17</td>\n      <td>0</td>\n      <td>NOH</td>\n    </tr>\n    <tr>\n      <th>793</th>\n      <td>22003</td>\n      <td>977</td>\n      <td>0020301075</td>\n      <td>MAR 30, 2004</td>\n      <td>LAL vs. NOH</td>\n      <td>W</td>\n      <td>34</td>\n      <td>7</td>\n      <td>17</td>\n      <td>0.412</td>\n      <td>...</td>\n      <td>3</td>\n      <td>6</td>\n      <td>1</td>\n      <td>0</td>\n      <td>4</td>\n      <td>3</td>\n      <td>23</td>\n      <td>12</td>\n      <td>0</td>\n      <td>NOH</td>\n    </tr>\n    <tr>\n      <th>845</th>\n      <td>22003</td>\n      <td>977</td>\n      <td>0020300070</td>\n      <td>NOV 07, 2003</td>\n      <td>LAL @ NOH</td>\n      <td>L</td>\n      <td>37</td>\n      <td>4</td>\n      <td>14</td>\n      <td>0.286</td>\n      <td>...</td>\n      <td>4</td>\n      <td>3</td>\n      <td>1</td>\n      <td>0</td>\n      <td>3</td>\n      <td>3</td>\n      <td>11</td>\n      <td>-24</td>\n      <td>0</td>\n      <td>NOH</td>\n    </tr>\n    <tr>\n      <th>894</th>\n      <td>22002</td>\n      <td>977</td>\n      <td>0020200546</td>\n      <td>JAN 15, 2003</td>\n      <td>LAL @ NOH</td>\n      <td>W</td>\n      <td>46</td>\n      <td>12</td>\n      <td>28</td>\n      <td>0.429</td>\n      <td>...</td>\n      <td>11</td>\n      <td>4</td>\n      <td>2</td>\n      <td>2</td>\n      <td>2</td>\n      <td>1</td>\n      <td>36</td>\n      <td>9</td>\n      <td>0</td>\n      <td>NOH</td>\n    </tr>\n    <tr>\n      <th>908</th>\n      <td>22002</td>\n      <td>977</td>\n      <td>0020200326</td>\n      <td>DEC 13, 2002</td>\n      <td>LAL vs. NOH</td>\n      <td>L</td>\n      <td>43</td>\n      <td>6</td>\n      <td>16</td>\n      <td>0.375</td>\n      <td>...</td>\n      <td>2</td>\n      <td>5</td>\n      <td>1</td>\n      <td>0</td>\n      <td>2</td>\n      <td>1</td>\n      <td>16</td>\n      <td>-14</td>\n      <td>0</td>\n      <td>NOH</td>\n    </tr>\n  </tbody>\n</table>\n<p>25 rows × 28 columns</p>\n</div>"
     },
     "metadata": {},
     "execution_count": 73
    }
   ],
   "source": [
    "df_kobe_games_all[df_kobe_games_all.OPPPONENTS == 'NOH']"
   ]
  }
 ]
}