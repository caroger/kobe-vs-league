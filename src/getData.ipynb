{
 "metadata": {
  "language_info": {
   "codemirror_mode": {
    "name": "ipython",
    "version": 3
   },
   "file_extension": ".py",
   "mimetype": "text/x-python",
   "name": "python",
   "nbconvert_exporter": "python",
   "pygments_lexer": "ipython3",
   "version": "3.8.5-final"
  },
  "orig_nbformat": 2,
  "kernelspec": {
   "name": "python3",
   "display_name": "Python 3",
   "language": "python"
  }
 },
 "nbformat": 4,
 "nbformat_minor": 2,
 "cells": [
  {
   "cell_type": "code",
   "execution_count": 47,
   "metadata": {},
   "outputs": [],
   "source": [
    "from nba_api.stats.static import players\n",
    "from nba_api.stats.endpoints import playergamelog\n",
    "from nba_api.stats.library.parameters import SeasonAll\n",
    "import pandas as pd "
   ]
  },
  {
   "cell_type": "code",
   "execution_count": 48,
   "metadata": {},
   "outputs": [],
   "source": [
    "player_dict = players.get_players()\n",
    "kobe = [player for player in player_dict if player['full_name'] == 'Kobe Bryant'][0]\n",
    "kobe_id = kobe['id']"
   ]
  },
  {
   "cell_type": "code",
   "execution_count": 49,
   "metadata": {},
   "outputs": [],
   "source": [
    "gamelog_kobe = playergamelog.PlayerGameLog(player_id=kobe_id, season = SeasonAll.all)"
   ]
  },
  {
   "cell_type": "code",
   "execution_count": 50,
   "metadata": {},
   "outputs": [],
   "source": [
    "df_kobe_games_all = gamelog_kobe.get_data_frames()[0]"
   ]
  },
  {
   "cell_type": "code",
   "execution_count": 62,
   "metadata": {},
   "outputs": [],
   "source": [
    "df_kobe_games_all['OPPPONENTS'] = df_kobe_games_all['MATCHUP'].apply(lambda x: x.split()[-1])"
   ]
  },
  {
   "cell_type": "code",
   "execution_count": 76,
   "metadata": {},
   "outputs": [
    {
     "output_type": "execute_result",
     "data": {
      "text/plain": [
       "LAC    69\n",
       "GSW    67\n",
       "MEM    67\n",
       "DEN    66\n",
       "OKC    65\n",
       "SAC    64\n",
       "MIN    64\n",
       "PHX    64\n",
       "POR    62\n",
       "SAS    61\n",
       "HOU    61\n",
       "DAL    60\n",
       "UTA    60\n",
       "NOP    41\n",
       "IND    34\n",
       "CLE    34\n",
       "NYK    34\n",
       "MIA    33\n",
       "TOR    33\n",
       "DET    33\n",
       "MIL    32\n",
       "PHI    32\n",
       "WAS    32\n",
       "CHI    31\n",
       "CHA    31\n",
       "BOS    31\n",
       "ORL    29\n",
       "ATL    29\n",
       "BKN    27\n",
       "Name: OPPPONENTS, dtype: int64"
      ]
     },
     "metadata": {},
     "execution_count": 76
    }
   ],
   "source": [
    "# clean up opponent abbreviation\n",
    "remap = {\"UTH\": \"UTA\", \"SAN\": \"SAS\", \"PHO\": \"PHX\",  \"NJN\": \"BKN\", \"NOK\": \"NOP\", \"NOH\":\"NOP\", \"SEA\": \"OKC\", \"CHH\": \"CHA\", \"VAN\": \"MEM\"}\n",
    "df_kobe_games_all['OPPPONENTS'].replace(remap, inplace=True)\n",
    "df_kobe_games_all['OPPPONENTS'].value_counts()"
   ]
  },
  {
   "cell_type": "code",
   "execution_count": 77,
   "metadata": {},
   "outputs": [],
   "source": [
    "df_kobe_games_all.to_csv(\"game_stats.csv\")"
   ]
  }
 ]
}