{
 "cells": [
  {
   "cell_type": "code",
   "execution_count": 1,
   "metadata": {},
   "outputs": [],
   "source": [
    "from nba_api.stats.static import players\n",
    "from nba_api.stats.endpoints import playergamelog\n",
    "from nba_api.stats.library.parameters import SeasonAll\n",
    "import pandas as pd "
   ]
  },
  {
   "cell_type": "code",
   "execution_count": 2,
   "metadata": {},
   "outputs": [],
   "source": [
    "player_dict = players.get_players()\n",
    "kobe = [player for player in player_dict if player['full_name'] == 'Kobe Bryant'][0]\n",
    "kobe_id = kobe['id']"
   ]
  },
  {
   "cell_type": "code",
   "execution_count": 3,
   "metadata": {},
   "outputs": [],
   "source": [
    "gamelog_kobe = playergamelog.PlayerGameLog(player_id=kobe_id, season = SeasonAll.all)"
   ]
  },
  {
   "cell_type": "code",
   "execution_count": 4,
   "metadata": {},
   "outputs": [],
   "source": [
    "df_kobe_games_all = gamelog_kobe.get_data_frames()[0]"
   ]
  },
  {
   "cell_type": "code",
   "execution_count": 5,
   "metadata": {},
   "outputs": [],
   "source": [
    "df_kobe_games_all['OPPONENT'] = df_kobe_games_all['MATCHUP'].apply(lambda x: x.split()[-1])"
   ]
  },
  {
   "cell_type": "code",
   "execution_count": 6,
   "metadata": {},
   "outputs": [
    {
     "data": {
      "text/plain": [
       "(1346, 28)"
      ]
     },
     "execution_count": 6,
     "metadata": {},
     "output_type": "execute_result"
    }
   ],
   "source": [
    "df_kobe_games_all.shape"
   ]
  },
  {
   "cell_type": "code",
   "execution_count": 7,
   "metadata": {},
   "outputs": [
    {
     "data": {
      "text/plain": [
       "LAC    69\n",
       "GSW    67\n",
       "MEM    67\n",
       "DEN    66\n",
       "OKC    65\n",
       "PHX    64\n",
       "MIN    64\n",
       "SAC    64\n",
       "POR    62\n",
       "HOU    61\n",
       "SAS    61\n",
       "DAL    60\n",
       "UTA    60\n",
       "NOP    41\n",
       "NYK    34\n",
       "CLE    34\n",
       "IND    34\n",
       "DET    33\n",
       "MIA    33\n",
       "TOR    33\n",
       "MIL    32\n",
       "WAS    32\n",
       "PHI    32\n",
       "CHI    31\n",
       "CHA    31\n",
       "BOS    31\n",
       "ORL    29\n",
       "ATL    29\n",
       "BKN    27\n",
       "Name: OPPONENT, dtype: int64"
      ]
     },
     "execution_count": 7,
     "metadata": {},
     "output_type": "execute_result"
    }
   ],
   "source": [
    "# clean up opponent abbreviation\n",
    "remap = {\"UTH\": \"UTA\", \"SAN\": \"SAS\", \"PHO\": \"PHX\",  \"NJN\": \"BKN\", \"NOK\": \"NOP\", \"NOH\":\"NOP\", \"SEA\": \"OKC\", \"CHH\": \"CHA\", \"VAN\": \"MEM\"}\n",
    "df_kobe_games_all['OPPONENT'].replace(remap, inplace=True)\n",
    "df_kobe_games_all['OPPONENT'].value_counts()"
   ]
  },
  {
   "cell_type": "code",
   "execution_count": 8,
   "metadata": {},
   "outputs": [
    {
     "data": {
      "text/plain": [
       "Index(['SEASON_ID', 'Player_ID', 'Game_ID', 'GAME_DATE', 'MATCHUP', 'WL',\n",
       "       'MIN', 'FGM', 'FGA', 'FG_PCT', 'FG3M', 'FG3A', 'FG3_PCT', 'FTM', 'FTA',\n",
       "       'FT_PCT', 'OREB', 'DREB', 'REB', 'AST', 'STL', 'BLK', 'TOV', 'PF',\n",
       "       'PTS', 'PLUS_MINUS', 'VIDEO_AVAILABLE', 'OPPONENT'],\n",
       "      dtype='object')"
      ]
     },
     "execution_count": 8,
     "metadata": {},
     "output_type": "execute_result"
    }
   ],
   "source": [
    "df_kobe_games_all.columns"
   ]
  },
  {
   "cell_type": "code",
   "execution_count": 9,
   "metadata": {},
   "outputs": [],
   "source": [
    "mean_df = df_kobe_games_all.groupby('OPPONENT').agg(\n",
    "    PTS = (\"PTS\", 'mean')\n",
    "    Minutes = ('MIN', 'mean'),\n",
    "    FGM = ('FGM', 'mean'),\n",
    "    FGA = ('FGA', 'mean'),\n",
    "    FG3M = ('FG3M', 'mean'),\n",
    "    FG3A = ('FG3A', 'mean'),\n",
    "    FTM = ('FTM', 'mean'),\n",
    "    FTA = ('FTA', 'mean'),\n",
    "    ).round(1)\n"
   ]
  },
  {
   "cell_type": "code",
   "execution_count": 10,
   "metadata": {},
   "outputs": [],
   "source": [
    "total_df = df_kobe_games_all.groupby('OPPONENT').agg(\n",
    "    Minutes = ('MIN', 'sum'),\n",
    "    FGM = ('FGM', 'sum'),\n",
    "    FGA = ('FGA', 'sum'),\n",
    "    FG3M = ('FG3M', 'sum'),\n",
    "    FG3A = ('FG3A', 'sum'),\n",
    "    FTM = ('FTM', 'sum'),\n",
    "    FTA = ('FTA', 'sum'),  \n",
    "    ).round(1)"
   ]
  },
  {
   "cell_type": "code",
   "execution_count": 11,
   "metadata": {},
   "outputs": [],
   "source": [
    "highlight_df = df_kobe_games_all.groupby('OPPONENT').agg(\n",
    "    Games = ('Game_ID', 'count'),\n",
    "    Wins = ('WL', lambda x: (x=='W').sum()),\n",
    "    Losses = ('WL', lambda x: (x=='L').sum()))"
   ]
  },
  {
   "cell_type": "code",
   "execution_count": 12,
   "metadata": {},
   "outputs": [
    {
     "data": {
      "application/json": {
       "highlight": {
        "ATL": {
         "Games": 29,
         "Losses": 11,
         "Wins": 18
        },
        "BKN": {
         "Games": 27,
         "Losses": 7,
         "Wins": 20
        },
        "BOS": {
         "Games": 31,
         "Losses": 13,
         "Wins": 18
        },
        "CHA": {
         "Games": 31,
         "Losses": 12,
         "Wins": 19
        },
        "CHI": {
         "Games": 31,
         "Losses": 13,
         "Wins": 18
        },
        "CLE": {
         "Games": 34,
         "Losses": 17,
         "Wins": 17
        },
        "DAL": {
         "Games": 60,
         "Losses": 18,
         "Wins": 42
        },
        "DEN": {
         "Games": 66,
         "Losses": 24,
         "Wins": 42
        },
        "DET": {
         "Games": 33,
         "Losses": 11,
         "Wins": 22
        },
        "GSW": {
         "Games": 67,
         "Losses": 16,
         "Wins": 51
        },
        "HOU": {
         "Games": 61,
         "Losses": 26,
         "Wins": 35
        },
        "IND": {
         "Games": 34,
         "Losses": 14,
         "Wins": 20
        },
        "LAC": {
         "Games": 69,
         "Losses": 22,
         "Wins": 47
        },
        "MEM": {
         "Games": 67,
         "Losses": 23,
         "Wins": 44
        },
        "MIA": {
         "Games": 33,
         "Losses": 17,
         "Wins": 16
        },
        "MIL": {
         "Games": 32,
         "Losses": 8,
         "Wins": 24
        },
        "MIN": {
         "Games": 64,
         "Losses": 17,
         "Wins": 47
        },
        "NOP": {
         "Games": 41,
         "Losses": 13,
         "Wins": 28
        },
        "NYK": {
         "Games": 34,
         "Losses": 11,
         "Wins": 23
        },
        "OKC": {
         "Games": 65,
         "Losses": 30,
         "Wins": 35
        },
        "ORL": {
         "Games": 29,
         "Losses": 11,
         "Wins": 18
        },
        "PHI": {
         "Games": 32,
         "Losses": 14,
         "Wins": 18
        },
        "PHX": {
         "Games": 64,
         "Losses": 26,
         "Wins": 38
        },
        "POR": {
         "Games": 62,
         "Losses": 32,
         "Wins": 30
        },
        "SAC": {
         "Games": 64,
         "Losses": 22,
         "Wins": 42
        },
        "SAS": {
         "Games": 61,
         "Losses": 36,
         "Wins": 25
        },
        "TOR": {
         "Games": 33,
         "Losses": 9,
         "Wins": 24
        },
        "UTA": {
         "Games": 60,
         "Losses": 26,
         "Wins": 34
        },
        "WAS": {
         "Games": 32,
         "Losses": 11,
         "Wins": 21
        }
       },
       "mean": {
        "ATL": {
         "FG3A": 3.8,
         "FG3M": 1.2,
         "FGA": 17.9,
         "FGM": 8.1,
         "FTA": 6.2,
         "FTM": 4.8,
         "Minutes": 34
        },
        "BKN": {
         "FG3A": 4,
         "FG3M": 1.4,
         "FGA": 18.7,
         "FGM": 7.9,
         "FTA": 6.3,
         "FTM": 5.1,
         "Minutes": 36.7
        },
        "BOS": {
         "FG3A": 4.3,
         "FG3M": 1.4,
         "FGA": 21,
         "FGM": 8.8,
         "FTA": 7.6,
         "FTM": 6.1,
         "Minutes": 37
        },
        "CHA": {
         "FG3A": 4.5,
         "FG3M": 1.4,
         "FGA": 20,
         "FGM": 8.6,
         "FTA": 6.4,
         "FTM": 5.5,
         "Minutes": 35.5
        },
        "CHI": {
         "FG3A": 3.7,
         "FG3M": 1,
         "FGA": 19.7,
         "FGM": 8.6,
         "FTA": 7.6,
         "FTM": 5.5,
         "Minutes": 35.9
        },
        "CLE": {
         "FG3A": 3.5,
         "FG3M": 1.2,
         "FGA": 18.3,
         "FGM": 8.1,
         "FTA": 7.2,
         "FTM": 6,
         "Minutes": 34.4
        },
        "DAL": {
         "FG3A": 3.5,
         "FG3M": 1.1,
         "FGA": 18.6,
         "FGM": 8.3,
         "FTA": 7.6,
         "FTM": 6.3,
         "Minutes": 37
        },
        "DEN": {
         "FG3A": 4,
         "FG3M": 1.3,
         "FGA": 18.8,
         "FGM": 8.6,
         "FTA": 7.5,
         "FTM": 6.3,
         "Minutes": 35
        },
        "DET": {
         "FG3A": 3.6,
         "FG3M": 1.1,
         "FGA": 18.2,
         "FGM": 8.1,
         "FTA": 5.7,
         "FTM": 4.9,
         "Minutes": 35.2
        },
        "GSW": {
         "FG3A": 4.5,
         "FG3M": 1.6,
         "FGA": 20.2,
         "FGM": 9.4,
         "FTA": 8,
         "FTM": 6.7,
         "Minutes": 35.8
        },
        "HOU": {
         "FG3A": 4.2,
         "FG3M": 1.3,
         "FGA": 21.9,
         "FGM": 9.6,
         "FTA": 7.4,
         "FTM": 6,
         "Minutes": 38.3
        },
        "IND": {
         "FG3A": 4.6,
         "FG3M": 1.5,
         "FGA": 19.7,
         "FGM": 8.2,
         "FTA": 8.1,
         "FTM": 6.9,
         "Minutes": 34.4
        },
        "LAC": {
         "FG3A": 3.7,
         "FG3M": 1.2,
         "FGA": 18.6,
         "FGM": 8.5,
         "FTA": 8,
         "FTM": 6.7,
         "Minutes": 35.6
        },
        "MEM": {
         "FG3A": 4.2,
         "FG3M": 1.4,
         "FGA": 19,
         "FGM": 8.6,
         "FTA": 6.8,
         "FTM": 5.8,
         "Minutes": 35.1
        },
        "MIA": {
         "FG3A": 3.9,
         "FG3M": 1.1,
         "FGA": 19,
         "FGM": 8.4,
         "FTA": 6.9,
         "FTM": 5.8,
         "Minutes": 36.5
        },
        "MIL": {
         "FG3A": 4,
         "FG3M": 1.3,
         "FGA": 18.3,
         "FGM": 7.9,
         "FTA": 7.6,
         "FTM": 7,
         "Minutes": 36.2
        },
        "MIN": {
         "FG3A": 4,
         "FG3M": 1.5,
         "FGA": 18.8,
         "FGM": 8.5,
         "FTA": 6.9,
         "FTM": 5.8,
         "Minutes": 34.9
        },
        "NOP": {
         "FG3A": 5.5,
         "FG3M": 1.9,
         "FGA": 20,
         "FGM": 8.9,
         "FTA": 7.8,
         "FTM": 6.9,
         "Minutes": 37.4
        },
        "NYK": {
         "FG3A": 4.2,
         "FG3M": 1.6,
         "FGA": 19.3,
         "FGM": 9,
         "FTA": 8.4,
         "FTM": 7,
         "Minutes": 35.2
        },
        "OKC": {
         "FG3A": 4.4,
         "FG3M": 1.5,
         "FGA": 19.2,
         "FGM": 8.5,
         "FTA": 7,
         "FTM": 5.8,
         "Minutes": 35.4
        },
        "ORL": {
         "FG3A": 3.1,
         "FG3M": 1,
         "FGA": 20.1,
         "FGM": 8.6,
         "FTA": 7.8,
         "FTM": 6.7,
         "Minutes": 38.7
        },
        "PHI": {
         "FG3A": 4.5,
         "FG3M": 1.6,
         "FGA": 19.2,
         "FGM": 8.8,
         "FTA": 5.3,
         "FTM": 4.4,
         "Minutes": 36.5
        },
        "PHX": {
         "FG3A": 4,
         "FG3M": 1.2,
         "FGA": 20,
         "FGM": 9.3,
         "FTA": 7.3,
         "FTM": 6.2,
         "Minutes": 36.7
        },
        "POR": {
         "FG3A": 4.5,
         "FG3M": 1.4,
         "FGA": 20.2,
         "FGM": 9.5,
         "FTA": 8.3,
         "FTM": 6.9,
         "Minutes": 37.8
        },
        "SAC": {
         "FG3A": 4.2,
         "FG3M": 1.4,
         "FGA": 19.8,
         "FGM": 9,
         "FTA": 8.4,
         "FTM": 7.1,
         "Minutes": 36.8
        },
        "SAS": {
         "FG3A": 3.8,
         "FG3M": 1.1,
         "FGA": 20.8,
         "FGM": 8.9,
         "FTA": 5.7,
         "FTM": 4.8,
         "Minutes": 37
        },
        "TOR": {
         "FG3A": 4.3,
         "FG3M": 1.5,
         "FGA": 20.1,
         "FGM": 9.5,
         "FTA": 7.7,
         "FTM": 6.5,
         "Minutes": 36.5
        },
        "UTA": {
         "FG3A": 4.2,
         "FG3M": 1.4,
         "FGA": 18.6,
         "FGM": 8.2,
         "FTA": 9.5,
         "FTM": 7.9,
         "Minutes": 36.1
        },
        "WAS": {
         "FG3A": 4.8,
         "FG3M": 1.9,
         "FGA": 18.8,
         "FGM": 8.2,
         "FTA": 8.8,
         "FTM": 7.3,
         "Minutes": 35.3
        }
       },
       "total": {
        "ATL": {
         "FG3A": 111,
         "FG3M": 36,
         "FGA": 519,
         "FGM": 235,
         "FTA": 179,
         "FTM": 140,
         "Minutes": 987
        },
        "BKN": {
         "FG3A": 108,
         "FG3M": 37,
         "FGA": 505,
         "FGM": 214,
         "FTA": 169,
         "FTM": 139,
         "Minutes": 991
        },
        "BOS": {
         "FG3A": 132,
         "FG3M": 42,
         "FGA": 652,
         "FGM": 273,
         "FTA": 235,
         "FTM": 189,
         "Minutes": 1146
        },
        "CHA": {
         "FG3A": 141,
         "FG3M": 42,
         "FGA": 620,
         "FGM": 266,
         "FTA": 198,
         "FTM": 171,
         "Minutes": 1100
        },
        "CHI": {
         "FG3A": 115,
         "FG3M": 30,
         "FGA": 610,
         "FGM": 268,
         "FTA": 235,
         "FTM": 170,
         "Minutes": 1112
        },
        "CLE": {
         "FG3A": 120,
         "FG3M": 41,
         "FGA": 621,
         "FGM": 274,
         "FTA": 244,
         "FTM": 204,
         "Minutes": 1169
        },
        "DAL": {
         "FG3A": 211,
         "FG3M": 65,
         "FGA": 1116,
         "FGM": 499,
         "FTA": 453,
         "FTM": 378,
         "Minutes": 2222
        },
        "DEN": {
         "FG3A": 261,
         "FG3M": 84,
         "FGA": 1243,
         "FGM": 568,
         "FTA": 494,
         "FTM": 419,
         "Minutes": 2311
        },
        "DET": {
         "FG3A": 118,
         "FG3M": 37,
         "FGA": 602,
         "FGM": 266,
         "FTA": 187,
         "FTM": 163,
         "Minutes": 1161
        },
        "GSW": {
         "FG3A": 299,
         "FG3M": 104,
         "FGA": 1356,
         "FGM": 628,
         "FTA": 539,
         "FTM": 452,
         "Minutes": 2398
        },
        "HOU": {
         "FG3A": 254,
         "FG3M": 82,
         "FGA": 1338,
         "FGM": 588,
         "FTA": 451,
         "FTM": 367,
         "Minutes": 2336
        },
        "IND": {
         "FG3A": 156,
         "FG3M": 51,
         "FGA": 671,
         "FGM": 278,
         "FTA": 276,
         "FTM": 233,
         "Minutes": 1171
        },
        "LAC": {
         "FG3A": 253,
         "FG3M": 83,
         "FGA": 1285,
         "FGM": 587,
         "FTA": 553,
         "FTM": 463,
         "Minutes": 2454
        },
        "MEM": {
         "FG3A": 281,
         "FG3M": 92,
         "FGA": 1276,
         "FGM": 579,
         "FTA": 456,
         "FTM": 386,
         "Minutes": 2355
        },
        "MIA": {
         "FG3A": 128,
         "FG3M": 37,
         "FGA": 627,
         "FGM": 278,
         "FTA": 228,
         "FTM": 191,
         "Minutes": 1205
        },
        "MIL": {
         "FG3A": 129,
         "FG3M": 42,
         "FGA": 586,
         "FGM": 254,
         "FTA": 244,
         "FTM": 224,
         "Minutes": 1160
        },
        "MIN": {
         "FG3A": 259,
         "FG3M": 94,
         "FGA": 1200,
         "FGM": 543,
         "FTA": 439,
         "FTM": 371,
         "Minutes": 2233
        },
        "NOP": {
         "FG3A": 225,
         "FG3M": 78,
         "FGA": 822,
         "FGM": 366,
         "FTA": 319,
         "FTM": 281,
         "Minutes": 1533
        },
        "NYK": {
         "FG3A": 143,
         "FG3M": 53,
         "FGA": 657,
         "FGM": 306,
         "FTA": 287,
         "FTM": 237,
         "Minutes": 1197
        },
        "OKC": {
         "FG3A": 285,
         "FG3M": 96,
         "FGA": 1248,
         "FGM": 552,
         "FTA": 453,
         "FTM": 374,
         "Minutes": 2303
        },
        "ORL": {
         "FG3A": 91,
         "FG3M": 29,
         "FGA": 584,
         "FGM": 250,
         "FTA": 226,
         "FTM": 195,
         "Minutes": 1122
        },
        "PHI": {
         "FG3A": 143,
         "FG3M": 50,
         "FGA": 614,
         "FGM": 280,
         "FTA": 169,
         "FTM": 142,
         "Minutes": 1169
        },
        "PHX": {
         "FG3A": 259,
         "FG3M": 80,
         "FGA": 1282,
         "FGM": 593,
         "FTA": 470,
         "FTM": 398,
         "Minutes": 2348
        },
        "POR": {
         "FG3A": 280,
         "FG3M": 87,
         "FGA": 1255,
         "FGM": 587,
         "FTA": 515,
         "FTM": 430,
         "Minutes": 2342
        },
        "SAC": {
         "FG3A": 269,
         "FG3M": 89,
         "FGA": 1265,
         "FGM": 578,
         "FTA": 539,
         "FTM": 452,
         "Minutes": 2358
        },
        "SAS": {
         "FG3A": 230,
         "FG3M": 67,
         "FGA": 1267,
         "FGM": 540,
         "FTA": 345,
         "FTM": 290,
         "Minutes": 2257
        },
        "TOR": {
         "FG3A": 143,
         "FG3M": 51,
         "FGA": 664,
         "FGM": 313,
         "FTA": 254,
         "FTM": 214,
         "Minutes": 1205
        },
        "UTA": {
         "FG3A": 250,
         "FG3M": 87,
         "FGA": 1115,
         "FGM": 495,
         "FTA": 572,
         "FTM": 472,
         "Minutes": 2167
        },
        "WAS": {
         "FG3A": 152,
         "FG3M": 61,
         "FGA": 600,
         "FGM": 261,
         "FTA": 282,
         "FTM": 233,
         "Minutes": 1129
        }
       }
      },
      "text/plain": [
       "<IPython.core.display.JSON object>"
      ]
     },
     "execution_count": 12,
     "metadata": {
      "application/json": {
       "expanded": false,
       "root": "root"
      }
     },
     "output_type": "execute_result"
    }
   ],
   "source": [
    "d = {}\n",
    "mean_json = mean_df.to_json(orient = \"index\")\n",
    "total_json = total_df.to_json(orient = \"index\")\n",
    "highlight_json = highlight_df.to_json(orient = \"index\")\n",
    "import json\n",
    "d[\"mean\"] = json.loads(mean_json)\n",
    "d[\"total\"] = json.loads(total_json)\n",
    "d[\"highlight\"] = json.loads(highlight_json)\n",
    "from IPython.display import JSON\n",
    "JSON(d)"
   ]
  },
  {
   "cell_type": "code",
   "execution_count": 13,
   "metadata": {},
   "outputs": [],
   "source": [
    "pd.DataFrame(d).to_json(\"../dist/assets/data/game_stats.json\")"
   ]
  },
  {
   "cell_type": "code",
   "execution_count": null,
   "metadata": {},
   "outputs": [],
   "source": []
  }
 ],
 "metadata": {
  "kernelspec": {
   "display_name": "kobe",
   "language": "python",
   "name": "kobe"
  },
  "language_info": {
   "codemirror_mode": {
    "name": "ipython",
    "version": 3
   },
   "file_extension": ".py",
   "mimetype": "text/x-python",
   "name": "python",
   "nbconvert_exporter": "python",
   "pygments_lexer": "ipython3",
   "version": "3.8.8"
  }
 },
 "nbformat": 4,
 "nbformat_minor": 4
}
