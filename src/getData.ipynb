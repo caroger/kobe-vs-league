{
 "cells": [
  {
   "cell_type": "code",
   "execution_count": 1,
   "metadata": {},
   "outputs": [
    {
     "output_type": "display_data",
     "data": {
      "text/plain": "<IPython.core.display.Javascript object>",
      "application/javascript": "\n            setTimeout(function() {\n                var nbb_cell_id = 1;\n                var nbb_unformatted_code = \"from nba_api.stats.static import players\\nfrom nba_api.stats.endpoints import playergamelog\\nfrom nba_api.stats.library.parameters import SeasonAll\\nimport pandas as pd \\n\\n%load_ext nb_black\\n%load_ext lab_black\";\n                var nbb_formatted_code = \"from nba_api.stats.static import players\\nfrom nba_api.stats.endpoints import playergamelog\\nfrom nba_api.stats.library.parameters import SeasonAll\\nimport pandas as pd\\n\\n%load_ext nb_black\\n%load_ext lab_black\";\n                var nbb_cells = Jupyter.notebook.get_cells();\n                for (var i = 0; i < nbb_cells.length; ++i) {\n                    if (nbb_cells[i].input_prompt_number == nbb_cell_id) {\n                        if (nbb_cells[i].get_text() == nbb_unformatted_code) {\n                             nbb_cells[i].set_text(nbb_formatted_code);\n                        }\n                        break;\n                    }\n                }\n            }, 500);\n            "
     },
     "metadata": {}
    }
   ],
   "source": [
    "from nba_api.stats.static import players\n",
    "from nba_api.stats.endpoints import playergamelog\n",
    "from nba_api.stats.library.parameters import SeasonAll\n",
    "import pandas as pd \n",
    "\n",
    "%load_ext nb_black\n",
    "%load_ext lab_black\n"
   ]
  },
  {
   "cell_type": "code",
   "execution_count": 2,
   "metadata": {},
   "outputs": [
    {
     "output_type": "display_data",
     "data": {
      "text/plain": "<IPython.core.display.Javascript object>",
      "application/javascript": "\n            setTimeout(function() {\n                var nbb_cell_id = 2;\n                var nbb_unformatted_code = \"    player_dict = players.get_players()\\nkobe = [player for player in player_dict if player['full_name'] == 'Kobe Bryant'][0]\\nkobe_id = kobe['id'] \";\n                var nbb_formatted_code = \"player_dict = players.get_players()\\nkobe = [player for player in player_dict if player[\\\"full_name\\\"] == \\\"Kobe Bryant\\\"][0]\\nkobe_id = kobe[\\\"id\\\"]\";\n                var nbb_cells = Jupyter.notebook.get_cells();\n                for (var i = 0; i < nbb_cells.length; ++i) {\n                    if (nbb_cells[i].input_prompt_number == nbb_cell_id) {\n                        if (nbb_cells[i].get_text() == nbb_unformatted_code) {\n                             nbb_cells[i].set_text(nbb_formatted_code);\n                        }\n                        break;\n                    }\n                }\n            }, 500);\n            "
     },
     "metadata": {}
    }
   ],
   "source": [
    "    player_dict = players.get_players()\n",
    "kobe = [player for player in player_dict if player['full_name'] == 'Kobe Bryant'][0]\n",
    "kobe_id = kobe['id'] "
   ]
  },
  {
   "cell_type": "code",
   "execution_count": null,
   "metadata": {},
   "outputs": [],
   "source": []
  },
  {
   "cell_type": "code",
   "execution_count": 7,
   "metadata": {},
   "outputs": [],
   "source": [
    "gamelog_kobe = playergamelog.PlayerGameLog(player_id=kobe_id, season = SeasonAll.all)"
   ]
  },
  {
   "cell_type": "code",
   "execution_count": 8,
   "metadata": {},
   "outputs": [],
   "source": [
    "df_kobe_games_all = gamelog_kobe.get_data_frames()[0]"
   ]
  },
  {
   "cell_type": "code",
   "execution_count": 9,
   "metadata": {},
   "outputs": [],
   "source": [
    "df_kobe_games_all['OPPONENT'] = df_kobe_games_all['MATCHUP'].apply(lambda x: x.split()[-1])"
   ]
  },
  {
   "cell_type": "code",
   "execution_count": 10,
   "metadata": {},
   "outputs": [
    {
     "output_type": "execute_result",
     "data": {
      "text/plain": [
       "(1346, 28)"
      ]
     },
     "metadata": {},
     "execution_count": 10
    }
   ],
   "source": [
    "df_kobe_games_all.shape"
   ]
  },
  {
   "cell_type": "code",
   "execution_count": 11,
   "metadata": {},
   "outputs": [
    {
     "output_type": "execute_result",
     "data": {
      "text/plain": [
       "LAC    69\n",
       "GSW    67\n",
       "MEM    67\n",
       "DEN    66\n",
       "OKC    65\n",
       "MIN    64\n",
       "PHX    64\n",
       "SAC    64\n",
       "POR    62\n",
       "HOU    61\n",
       "SAS    61\n",
       "DAL    60\n",
       "UTA    60\n",
       "NOP    41\n",
       "IND    34\n",
       "CLE    34\n",
       "NYK    34\n",
       "MIA    33\n",
       "DET    33\n",
       "TOR    33\n",
       "PHI    32\n",
       "MIL    32\n",
       "WAS    32\n",
       "CHA    31\n",
       "BOS    31\n",
       "CHI    31\n",
       "ATL    29\n",
       "ORL    29\n",
       "BKN    27\n",
       "Name: OPPONENT, dtype: int64"
      ]
     },
     "metadata": {},
     "execution_count": 11
    }
   ],
   "source": [
    "# clean up opponent abbreviation\n",
    "remap = {\"UTH\": \"UTA\", \"SAN\": \"SAS\", \"PHO\": \"PHX\",  \"NJN\": \"BKN\", \"NOK\": \"NOP\", \"NOH\":\"NOP\", \"SEA\": \"OKC\", \"CHH\": \"CHA\", \"VAN\": \"MEM\"}\n",
    "df_kobe_games_all['OPPONENT'].replace(remap, inplace=True)\n",
    "df_kobe_games_all['OPPONENT'].value_counts()"
   ]
  },
  {
   "cell_type": "code",
   "execution_count": 12,
   "metadata": {},
   "outputs": [
    {
     "output_type": "execute_result",
     "data": {
      "text/plain": [
       "Index(['SEASON_ID', 'Player_ID', 'Game_ID', 'GAME_DATE', 'MATCHUP', 'WL',\n",
       "       'MIN', 'FGM', 'FGA', 'FG_PCT', 'FG3M', 'FG3A', 'FG3_PCT', 'FTM', 'FTA',\n",
       "       'FT_PCT', 'OREB', 'DREB', 'REB', 'AST', 'STL', 'BLK', 'TOV', 'PF',\n",
       "       'PTS', 'PLUS_MINUS', 'VIDEO_AVAILABLE', 'OPPONENT'],\n",
       "      dtype='object')"
      ]
     },
     "metadata": {},
     "execution_count": 12
    }
   ],
   "source": [
    "df_kobe_games_all.columns"
   ]
  },
  {
   "cell_type": "code",
   "execution_count": 15,
   "metadata": {},
   "outputs": [],
   "source": [
    "mean_df = df_kobe_games_all.groupby('OPPONENT').agg(\n",
    "    **{\n",
    "    'PTS' : (\"PTS\", 'mean'),\n",
    "    'REB' : (\"REB\", 'mean'),\n",
    "    'STL' : (\"STL\", 'mean'),\n",
    "    'BLK' : (\"BLK\",'mean'),\n",
    "    'AST' : ('AST', 'mean'),\n",
    "    'PLUS MINUS' : ('PLUS_MINUS', 'mean'),\n",
    "    'Minutes' : ('MIN', 'mean'),\n",
    "    'FGM' : ('FGM', 'mean'),\n",
    "    'FG3M' : ('FG3M', 'mean'),\n",
    "    'FTM' : ('FTM', 'mean'),\n",
    "    }\n",
    "    ).round(1)"
   ]
  },
  {
   "cell_type": "code",
   "execution_count": 18,
   "metadata": {},
   "outputs": [],
   "source": [
    "total_df = df_kobe_games_all.groupby('OPPONENT').agg(\n",
    "    Minutes =   ('MIN', 'sum'),\n",
    "    FGM = ('FGM', 'sum'),\n",
    "    FGA = ('FGA', 'sum'),\n",
    "    FG3M = ('FG3M', 'sum'),\n",
    "    FG3A = ('FG3A', 'sum'),\n",
    "    FTM = ('FTM', 'sum'),\n",
    "    FTA = ('FTA', 'sum'),  \n",
    "    ).round(1)"
   ]
  },
  {
   "cell_type": "code",
   "execution_count": 11,
   "metadata": {},
   "outputs": [],
   "source": [
    "highlight_df = df_kobe_games_all.groupby('OPPONENT').agg(\n",
    "    Games = ('Game_ID', 'count'),\n",
    "    Wins = ('WL', lambda x: (x=='W').sum()))"
   ]
  },
  {
   "cell_type": "code",
   "execution_count": 12,
   "metadata": {},
   "outputs": [],
   "source": [
    "def find_best_game(df, team, col=\"PTS\"):\n",
    "    sub_df = df[df['OPPONENT']==team]\n",
    "    max_index = sub_df[col].idxmax()\n",
    "    max_row = df.iloc[[max_index]]\n",
    "    return f\"{max_row[col].item()} on {max_row['GAME_DATE'].item()}\""
   ]
  },
  {
   "cell_type": "code",
   "execution_count": 13,
   "metadata": {},
   "outputs": [
    {
     "data": {
      "text/html": [
       "<div>\n",
       "<style scoped>\n",
       "    .dataframe tbody tr th:only-of-type {\n",
       "        vertical-align: middle;\n",
       "    }\n",
       "\n",
       "    .dataframe tbody tr th {\n",
       "        vertical-align: top;\n",
       "    }\n",
       "\n",
       "    .dataframe thead th {\n",
       "        text-align: right;\n",
       "    }\n",
       "</style>\n",
       "<table border=\"1\" class=\"dataframe\">\n",
       "  <thead>\n",
       "    <tr style=\"text-align: right;\">\n",
       "      <th></th>\n",
       "      <th>Games</th>\n",
       "      <th>Wins</th>\n",
       "      <th>Most Points</th>\n",
       "    </tr>\n",
       "    <tr>\n",
       "      <th>OPPONENT</th>\n",
       "      <th></th>\n",
       "      <th></th>\n",
       "      <th></th>\n",
       "    </tr>\n",
       "  </thead>\n",
       "  <tbody>\n",
       "    <tr>\n",
       "      <th>ATL</th>\n",
       "      <td>29</td>\n",
       "      <td>18</td>\n",
       "      <td>41 on NOV 01, 2009</td>\n",
       "    </tr>\n",
       "    <tr>\n",
       "      <th>BKN</th>\n",
       "      <td>27</td>\n",
       "      <td>20</td>\n",
       "      <td>46 on NOV 27, 2005</td>\n",
       "    </tr>\n",
       "    <tr>\n",
       "      <th>BOS</th>\n",
       "      <td>31</td>\n",
       "      <td>18</td>\n",
       "      <td>43 on JAN 31, 2007</td>\n",
       "    </tr>\n",
       "    <tr>\n",
       "      <th>CHA</th>\n",
       "      <td>31</td>\n",
       "      <td>19</td>\n",
       "      <td>58 on DEC 29, 2006</td>\n",
       "    </tr>\n",
       "    <tr>\n",
       "      <th>CHI</th>\n",
       "      <td>31</td>\n",
       "      <td>18</td>\n",
       "      <td>43 on NOV 20, 2005</td>\n",
       "    </tr>\n",
       "    <tr>\n",
       "      <th>CLE</th>\n",
       "      <td>34</td>\n",
       "      <td>17</td>\n",
       "      <td>47 on JAN 30, 2001</td>\n",
       "    </tr>\n",
       "    <tr>\n",
       "      <th>DAL</th>\n",
       "      <td>60</td>\n",
       "      <td>42</td>\n",
       "      <td>62 on DEC 20, 2005</td>\n",
       "    </tr>\n",
       "    <tr>\n",
       "      <th>DEN</th>\n",
       "      <td>66</td>\n",
       "      <td>42</td>\n",
       "      <td>51 on FEB 12, 2003</td>\n",
       "    </tr>\n",
       "    <tr>\n",
       "      <th>DET</th>\n",
       "      <td>33</td>\n",
       "      <td>22</td>\n",
       "      <td>40 on NOV 17, 2009</td>\n",
       "    </tr>\n",
       "    <tr>\n",
       "      <th>GSW</th>\n",
       "      <td>67</td>\n",
       "      <td>51</td>\n",
       "      <td>51 on DEC 06, 2000</td>\n",
       "    </tr>\n",
       "    <tr>\n",
       "      <th>HOU</th>\n",
       "      <td>61</td>\n",
       "      <td>35</td>\n",
       "      <td>53 on MAR 30, 2007</td>\n",
       "    </tr>\n",
       "    <tr>\n",
       "      <th>IND</th>\n",
       "      <td>34</td>\n",
       "      <td>20</td>\n",
       "      <td>45 on JAN 09, 2006</td>\n",
       "    </tr>\n",
       "    <tr>\n",
       "      <th>LAC</th>\n",
       "      <td>69</td>\n",
       "      <td>47</td>\n",
       "      <td>50 on APR 12, 2007</td>\n",
       "    </tr>\n",
       "    <tr>\n",
       "      <th>MEM</th>\n",
       "      <td>67</td>\n",
       "      <td>44</td>\n",
       "      <td>60 on MAR 22, 2007</td>\n",
       "    </tr>\n",
       "    <tr>\n",
       "      <th>MIA</th>\n",
       "      <td>33</td>\n",
       "      <td>16</td>\n",
       "      <td>42 on DEC 25, 2004</td>\n",
       "    </tr>\n",
       "    <tr>\n",
       "      <th>MIL</th>\n",
       "      <td>32</td>\n",
       "      <td>24</td>\n",
       "      <td>43 on MAR 24, 2006</td>\n",
       "    </tr>\n",
       "    <tr>\n",
       "      <th>MIN</th>\n",
       "      <td>64</td>\n",
       "      <td>47</td>\n",
       "      <td>50 on MAR 18, 2007</td>\n",
       "    </tr>\n",
       "    <tr>\n",
       "      <th>NOP</th>\n",
       "      <td>41</td>\n",
       "      <td>28</td>\n",
       "      <td>50 on MAR 23, 2007</td>\n",
       "    </tr>\n",
       "    <tr>\n",
       "      <th>NYK</th>\n",
       "      <td>34</td>\n",
       "      <td>23</td>\n",
       "      <td>61 on FEB 02, 2009</td>\n",
       "    </tr>\n",
       "    <tr>\n",
       "      <th>OKC</th>\n",
       "      <td>65</td>\n",
       "      <td>35</td>\n",
       "      <td>50 on APR 15, 2007</td>\n",
       "    </tr>\n",
       "    <tr>\n",
       "      <th>ORL</th>\n",
       "      <td>29</td>\n",
       "      <td>18</td>\n",
       "      <td>41 on DEC 20, 2008</td>\n",
       "    </tr>\n",
       "    <tr>\n",
       "      <th>PHI</th>\n",
       "      <td>32</td>\n",
       "      <td>18</td>\n",
       "      <td>48 on JAN 06, 2006</td>\n",
       "    </tr>\n",
       "    <tr>\n",
       "      <th>PHX</th>\n",
       "      <td>64</td>\n",
       "      <td>38</td>\n",
       "      <td>51 on APR 07, 2006</td>\n",
       "    </tr>\n",
       "    <tr>\n",
       "      <th>POR</th>\n",
       "      <td>62</td>\n",
       "      <td>30</td>\n",
       "      <td>65 on MAR 16, 2007</td>\n",
       "    </tr>\n",
       "    <tr>\n",
       "      <th>SAC</th>\n",
       "      <td>64</td>\n",
       "      <td>42</td>\n",
       "      <td>51 on JAN 19, 2006</td>\n",
       "    </tr>\n",
       "    <tr>\n",
       "      <th>SAS</th>\n",
       "      <td>61</td>\n",
       "      <td>25</td>\n",
       "      <td>44 on FEB 14, 2003</td>\n",
       "    </tr>\n",
       "    <tr>\n",
       "      <th>TOR</th>\n",
       "      <td>33</td>\n",
       "      <td>24</td>\n",
       "      <td>81 on JAN 22, 2006</td>\n",
       "    </tr>\n",
       "    <tr>\n",
       "      <th>UTA</th>\n",
       "      <td>60</td>\n",
       "      <td>34</td>\n",
       "      <td>60 on APR 13, 2016</td>\n",
       "    </tr>\n",
       "    <tr>\n",
       "      <th>WAS</th>\n",
       "      <td>32</td>\n",
       "      <td>21</td>\n",
       "      <td>55 on MAR 28, 2003</td>\n",
       "    </tr>\n",
       "  </tbody>\n",
       "</table>\n",
       "</div>"
      ],
      "text/plain": [
       "          Games  Wins         Most Points\n",
       "OPPONENT                                 \n",
       "ATL          29    18  41 on NOV 01, 2009\n",
       "BKN          27    20  46 on NOV 27, 2005\n",
       "BOS          31    18  43 on JAN 31, 2007\n",
       "CHA          31    19  58 on DEC 29, 2006\n",
       "CHI          31    18  43 on NOV 20, 2005\n",
       "CLE          34    17  47 on JAN 30, 2001\n",
       "DAL          60    42  62 on DEC 20, 2005\n",
       "DEN          66    42  51 on FEB 12, 2003\n",
       "DET          33    22  40 on NOV 17, 2009\n",
       "GSW          67    51  51 on DEC 06, 2000\n",
       "HOU          61    35  53 on MAR 30, 2007\n",
       "IND          34    20  45 on JAN 09, 2006\n",
       "LAC          69    47  50 on APR 12, 2007\n",
       "MEM          67    44  60 on MAR 22, 2007\n",
       "MIA          33    16  42 on DEC 25, 2004\n",
       "MIL          32    24  43 on MAR 24, 2006\n",
       "MIN          64    47  50 on MAR 18, 2007\n",
       "NOP          41    28  50 on MAR 23, 2007\n",
       "NYK          34    23  61 on FEB 02, 2009\n",
       "OKC          65    35  50 on APR 15, 2007\n",
       "ORL          29    18  41 on DEC 20, 2008\n",
       "PHI          32    18  48 on JAN 06, 2006\n",
       "PHX          64    38  51 on APR 07, 2006\n",
       "POR          62    30  65 on MAR 16, 2007\n",
       "SAC          64    42  51 on JAN 19, 2006\n",
       "SAS          61    25  44 on FEB 14, 2003\n",
       "TOR          33    24  81 on JAN 22, 2006\n",
       "UTA          60    34  60 on APR 13, 2016\n",
       "WAS          32    21  55 on MAR 28, 2003"
      ]
     },
     "execution_count": 13,
     "metadata": {},
     "output_type": "execute_result"
    }
   ],
   "source": [
    "highlight_df['Most Points']=highlight_df.apply(lambda x: find_best_game(df_kobe_games_all, x.name), axis=1)\n",
    "highlight_df"
   ]
  },
  {
   "cell_type": "code",
   "execution_count": 14,
   "metadata": {},
   "outputs": [
    {
     "data": {
      "application/json": {
       "highlight": {
        "ATL": {
         "Games": 29,
         "Most Points": "41 on NOV 01, 2009",
         "Wins": 18
        },
        "BKN": {
         "Games": 27,
         "Most Points": "46 on NOV 27, 2005",
         "Wins": 20
        },
        "BOS": {
         "Games": 31,
         "Most Points": "43 on JAN 31, 2007",
         "Wins": 18
        },
        "CHA": {
         "Games": 31,
         "Most Points": "58 on DEC 29, 2006",
         "Wins": 19
        },
        "CHI": {
         "Games": 31,
         "Most Points": "43 on NOV 20, 2005",
         "Wins": 18
        },
        "CLE": {
         "Games": 34,
         "Most Points": "47 on JAN 30, 2001",
         "Wins": 17
        },
        "DAL": {
         "Games": 60,
         "Most Points": "62 on DEC 20, 2005",
         "Wins": 42
        },
        "DEN": {
         "Games": 66,
         "Most Points": "51 on FEB 12, 2003",
         "Wins": 42
        },
        "DET": {
         "Games": 33,
         "Most Points": "40 on NOV 17, 2009",
         "Wins": 22
        },
        "GSW": {
         "Games": 67,
         "Most Points": "51 on DEC 06, 2000",
         "Wins": 51
        },
        "HOU": {
         "Games": 61,
         "Most Points": "53 on MAR 30, 2007",
         "Wins": 35
        },
        "IND": {
         "Games": 34,
         "Most Points": "45 on JAN 09, 2006",
         "Wins": 20
        },
        "LAC": {
         "Games": 69,
         "Most Points": "50 on APR 12, 2007",
         "Wins": 47
        },
        "MEM": {
         "Games": 67,
         "Most Points": "60 on MAR 22, 2007",
         "Wins": 44
        },
        "MIA": {
         "Games": 33,
         "Most Points": "42 on DEC 25, 2004",
         "Wins": 16
        },
        "MIL": {
         "Games": 32,
         "Most Points": "43 on MAR 24, 2006",
         "Wins": 24
        },
        "MIN": {
         "Games": 64,
         "Most Points": "50 on MAR 18, 2007",
         "Wins": 47
        },
        "NOP": {
         "Games": 41,
         "Most Points": "50 on MAR 23, 2007",
         "Wins": 28
        },
        "NYK": {
         "Games": 34,
         "Most Points": "61 on FEB 02, 2009",
         "Wins": 23
        },
        "OKC": {
         "Games": 65,
         "Most Points": "50 on APR 15, 2007",
         "Wins": 35
        },
        "ORL": {
         "Games": 29,
         "Most Points": "41 on DEC 20, 2008",
         "Wins": 18
        },
        "PHI": {
         "Games": 32,
         "Most Points": "48 on JAN 06, 2006",
         "Wins": 18
        },
        "PHX": {
         "Games": 64,
         "Most Points": "51 on APR 07, 2006",
         "Wins": 38
        },
        "POR": {
         "Games": 62,
         "Most Points": "65 on MAR 16, 2007",
         "Wins": 30
        },
        "SAC": {
         "Games": 64,
         "Most Points": "51 on JAN 19, 2006",
         "Wins": 42
        },
        "SAS": {
         "Games": 61,
         "Most Points": "44 on FEB 14, 2003",
         "Wins": 25
        },
        "TOR": {
         "Games": 33,
         "Most Points": "81 on JAN 22, 2006",
         "Wins": 24
        },
        "UTA": {
         "Games": 60,
         "Most Points": "60 on APR 13, 2016",
         "Wins": 34
        },
        "WAS": {
         "Games": 32,
         "Most Points": "55 on MAR 28, 2003",
         "Wins": 21
        }
       },
       "mean": {
        "ATL": {
         "AST": 4.5,
         "BLK": 0.4,
         "FG3M": 1.2,
         "FGM": 8.1,
         "FTM": 4.8,
         "Minutes": 34,
         "PLUS_MINUS": 6.2,
         "PTS": 22.3,
         "REB": 4.7,
         "STL": 1.6
        },
        "BKN": {
         "AST": 5.1,
         "BLK": 0.4,
         "FG3M": 1.4,
         "FGM": 7.9,
         "FTM": 5.1,
         "Minutes": 36.7,
         "PLUS_MINUS": 6.7,
         "PTS": 22.4,
         "REB": 5,
         "STL": 1.4
        },
        "BOS": {
         "AST": 4.4,
         "BLK": 0.5,
         "FG3M": 1.4,
         "FGM": 8.8,
         "FTM": 6.1,
         "Minutes": 37,
         "PLUS_MINUS": 0.2,
         "PTS": 25.1,
         "REB": 5.1,
         "STL": 1.3
        },
        "CHA": {
         "AST": 4.1,
         "BLK": 0.5,
         "FG3M": 1.4,
         "FGM": 8.6,
         "FTM": 5.5,
         "Minutes": 35.5,
         "PLUS_MINUS": 1,
         "PTS": 24,
         "REB": 5.4,
         "STL": 1.1
        },
        "CHI": {
         "AST": 4.5,
         "BLK": 0.6,
         "FG3M": 1,
         "FGM": 8.6,
         "FTM": 5.5,
         "Minutes": 35.9,
         "PLUS_MINUS": 3.6,
         "PTS": 23.7,
         "REB": 5.4,
         "STL": 1.9
        },
        "CLE": {
         "AST": 5,
         "BLK": 0.5,
         "FG3M": 1.2,
         "FGM": 8.1,
         "FTM": 6,
         "Minutes": 34.4,
         "PLUS_MINUS": 2.4,
         "PTS": 23.3,
         "REB": 5.6,
         "STL": 1.1
        },
        "DAL": {
         "AST": 4.5,
         "BLK": 0.5,
         "FG3M": 1.1,
         "FGM": 8.3,
         "FTM": 6.3,
         "Minutes": 37,
         "PLUS_MINUS": 3,
         "PTS": 24,
         "REB": 6.1,
         "STL": 1.4
        },
        "DEN": {
         "AST": 5.4,
         "BLK": 0.5,
         "FG3M": 1.3,
         "FGM": 8.6,
         "FTM": 6.3,
         "Minutes": 35,
         "PLUS_MINUS": 6.1,
         "PTS": 24.8,
         "REB": 5.3,
         "STL": 1.3
        },
        "DET": {
         "AST": 5.2,
         "BLK": 0.4,
         "FG3M": 1.1,
         "FGM": 8.1,
         "FTM": 4.9,
         "Minutes": 35.2,
         "PLUS_MINUS": 5.3,
         "PTS": 22.2,
         "REB": 4.8,
         "STL": 1.8
        },
        "GSW": {
         "AST": 4.7,
         "BLK": 0.4,
         "FG3M": 1.6,
         "FGM": 9.4,
         "FTM": 6.7,
         "Minutes": 35.8,
         "PLUS_MINUS": 5.8,
         "PTS": 27,
         "REB": 5.2,
         "STL": 1.6
        },
        "HOU": {
         "AST": 4.9,
         "BLK": 0.4,
         "FG3M": 1.3,
         "FGM": 9.6,
         "FTM": 6,
         "Minutes": 38.3,
         "PLUS_MINUS": 0.9,
         "PTS": 26.6,
         "REB": 5.4,
         "STL": 1.5
        },
        "IND": {
         "AST": 4,
         "BLK": 0.4,
         "FG3M": 1.5,
         "FGM": 8.2,
         "FTM": 6.9,
         "Minutes": 34.4,
         "PLUS_MINUS": 3.4,
         "PTS": 24.7,
         "REB": 5.2,
         "STL": 1.6
        },
        "LAC": {
         "AST": 4.6,
         "BLK": 0.5,
         "FG3M": 1.2,
         "FGM": 8.5,
         "FTM": 6.7,
         "Minutes": 35.6,
         "PLUS_MINUS": 3.7,
         "PTS": 24.9,
         "REB": 5.1,
         "STL": 1.7
        },
        "MEM": {
         "AST": 4.3,
         "BLK": 0.6,
         "FG3M": 1.4,
         "FGM": 8.6,
         "FTM": 5.8,
         "Minutes": 35.1,
         "PLUS_MINUS": 3.5,
         "PTS": 24.4,
         "REB": 4.7,
         "STL": 1.6
        },
        "MIA": {
         "AST": 4.2,
         "BLK": 0.3,
         "FG3M": 1.1,
         "FGM": 8.4,
         "FTM": 5.8,
         "Minutes": 36.5,
         "PLUS_MINUS": 0.4,
         "PTS": 23.8,
         "REB": 4.5,
         "STL": 1.4
        },
        "MIL": {
         "AST": 4.8,
         "BLK": 0.5,
         "FG3M": 1.3,
         "FGM": 7.9,
         "FTM": 7,
         "Minutes": 36.2,
         "PLUS_MINUS": 6.9,
         "PTS": 24.2,
         "REB": 5.1,
         "STL": 1.3
        },
        "MIN": {
         "AST": 4.9,
         "BLK": 0.5,
         "FG3M": 1.5,
         "FGM": 8.5,
         "FTM": 5.8,
         "Minutes": 34.9,
         "PLUS_MINUS": 4.5,
         "PTS": 24.2,
         "REB": 5.2,
         "STL": 1.2
        },
        "NOP": {
         "AST": 4.7,
         "BLK": 0.4,
         "FG3M": 1.9,
         "FGM": 8.9,
         "FTM": 6.9,
         "Minutes": 37.4,
         "PLUS_MINUS": 3.3,
         "PTS": 26.6,
         "REB": 5.3,
         "STL": 1.4
        },
        "NYK": {
         "AST": 4.2,
         "BLK": 0.4,
         "FG3M": 1.6,
         "FGM": 9,
         "FTM": 7,
         "Minutes": 35.2,
         "PLUS_MINUS": 5.6,
         "PTS": 26.5,
         "REB": 5.3,
         "STL": 1.3
        },
        "OKC": {
         "AST": 4.5,
         "BLK": 0.3,
         "FG3M": 1.5,
         "FGM": 8.5,
         "FTM": 5.8,
         "Minutes": 35.4,
         "PLUS_MINUS": 0.4,
         "PTS": 24.2,
         "REB": 4.6,
         "STL": 1.4
        },
        "ORL": {
         "AST": 5.9,
         "BLK": 0.4,
         "FG3M": 1,
         "FGM": 8.6,
         "FTM": 6.7,
         "Minutes": 38.7,
         "PLUS_MINUS": 2.3,
         "PTS": 25,
         "REB": 5.4,
         "STL": 1.2
        },
        "PHI": {
         "AST": 4.4,
         "BLK": 0.6,
         "FG3M": 1.6,
         "FGM": 8.8,
         "FTM": 4.4,
         "Minutes": 36.5,
         "PLUS_MINUS": 1.7,
         "PTS": 23.5,
         "REB": 5.2,
         "STL": 1.2
        },
        "PHX": {
         "AST": 5,
         "BLK": 0.6,
         "FG3M": 1.2,
         "FGM": 9.3,
         "FTM": 6.2,
         "Minutes": 36.7,
         "PLUS_MINUS": 1.7,
         "PTS": 26,
         "REB": 5.8,
         "STL": 1.4
        },
        "POR": {
         "AST": 4,
         "BLK": 0.5,
         "FG3M": 1.4,
         "FGM": 9.5,
         "FTM": 6.9,
         "Minutes": 37.8,
         "PLUS_MINUS": 2.2,
         "PTS": 27.3,
         "REB": 5.4,
         "STL": 1.5
        },
        "SAC": {
         "AST": 5.2,
         "BLK": 0.4,
         "FG3M": 1.4,
         "FGM": 9,
         "FTM": 7.1,
         "Minutes": 36.8,
         "PLUS_MINUS": 2.5,
         "PTS": 26.5,
         "REB": 5.9,
         "STL": 1.5
        },
        "SAS": {
         "AST": 4.2,
         "BLK": 0.6,
         "FG3M": 1.1,
         "FGM": 8.9,
         "FTM": 4.8,
         "Minutes": 37,
         "PLUS_MINUS": -2.2,
         "PTS": 23.6,
         "REB": 5.3,
         "STL": 1.4
        },
        "TOR": {
         "AST": 5.4,
         "BLK": 0.4,
         "FG3M": 1.5,
         "FGM": 9.5,
         "FTM": 6.5,
         "Minutes": 36.5,
         "PLUS_MINUS": 4,
         "PTS": 27,
         "REB": 6,
         "STL": 1.4
        },
        "UTA": {
         "AST": 4.3,
         "BLK": 0.6,
         "FG3M": 1.4,
         "FGM": 8.2,
         "FTM": 7.9,
         "Minutes": 36.1,
         "PLUS_MINUS": 3.2,
         "PTS": 25.8,
         "REB": 4.5,
         "STL": 1.6
        },
        "WAS": {
         "AST": 5.6,
         "BLK": 0.4,
         "FG3M": 1.9,
         "FGM": 8.2,
         "FTM": 7.3,
         "Minutes": 35.3,
         "PLUS_MINUS": 5.2,
         "PTS": 25.5,
         "REB": 5.1,
         "STL": 1.3
        }
       },
       "total": {
        "ATL": {
         "FG3A": 111,
         "FG3M": 36,
         "FGA": 519,
         "FGM": 235,
         "FTA": 179,
         "FTM": 140,
         "Minutes": 987
        },
        "BKN": {
         "FG3A": 108,
         "FG3M": 37,
         "FGA": 505,
         "FGM": 214,
         "FTA": 169,
         "FTM": 139,
         "Minutes": 991
        },
        "BOS": {
         "FG3A": 132,
         "FG3M": 42,
         "FGA": 652,
         "FGM": 273,
         "FTA": 235,
         "FTM": 189,
         "Minutes": 1146
        },
        "CHA": {
         "FG3A": 141,
         "FG3M": 42,
         "FGA": 620,
         "FGM": 266,
         "FTA": 198,
         "FTM": 171,
         "Minutes": 1100
        },
        "CHI": {
         "FG3A": 115,
         "FG3M": 30,
         "FGA": 610,
         "FGM": 268,
         "FTA": 235,
         "FTM": 170,
         "Minutes": 1112
        },
        "CLE": {
         "FG3A": 120,
         "FG3M": 41,
         "FGA": 621,
         "FGM": 274,
         "FTA": 244,
         "FTM": 204,
         "Minutes": 1169
        },
        "DAL": {
         "FG3A": 211,
         "FG3M": 65,
         "FGA": 1116,
         "FGM": 499,
         "FTA": 453,
         "FTM": 378,
         "Minutes": 2222
        },
        "DEN": {
         "FG3A": 261,
         "FG3M": 84,
         "FGA": 1243,
         "FGM": 568,
         "FTA": 494,
         "FTM": 419,
         "Minutes": 2311
        },
        "DET": {
         "FG3A": 118,
         "FG3M": 37,
         "FGA": 602,
         "FGM": 266,
         "FTA": 187,
         "FTM": 163,
         "Minutes": 1161
        },
        "GSW": {
         "FG3A": 299,
         "FG3M": 104,
         "FGA": 1356,
         "FGM": 628,
         "FTA": 539,
         "FTM": 452,
         "Minutes": 2398
        },
        "HOU": {
         "FG3A": 254,
         "FG3M": 82,
         "FGA": 1338,
         "FGM": 588,
         "FTA": 451,
         "FTM": 367,
         "Minutes": 2336
        },
        "IND": {
         "FG3A": 156,
         "FG3M": 51,
         "FGA": 671,
         "FGM": 278,
         "FTA": 276,
         "FTM": 233,
         "Minutes": 1171
        },
        "LAC": {
         "FG3A": 253,
         "FG3M": 83,
         "FGA": 1285,
         "FGM": 587,
         "FTA": 553,
         "FTM": 463,
         "Minutes": 2454
        },
        "MEM": {
         "FG3A": 281,
         "FG3M": 92,
         "FGA": 1276,
         "FGM": 579,
         "FTA": 456,
         "FTM": 386,
         "Minutes": 2355
        },
        "MIA": {
         "FG3A": 128,
         "FG3M": 37,
         "FGA": 627,
         "FGM": 278,
         "FTA": 228,
         "FTM": 191,
         "Minutes": 1205
        },
        "MIL": {
         "FG3A": 129,
         "FG3M": 42,
         "FGA": 586,
         "FGM": 254,
         "FTA": 244,
         "FTM": 224,
         "Minutes": 1160
        },
        "MIN": {
         "FG3A": 259,
         "FG3M": 94,
         "FGA": 1200,
         "FGM": 543,
         "FTA": 439,
         "FTM": 371,
         "Minutes": 2233
        },
        "NOP": {
         "FG3A": 225,
         "FG3M": 78,
         "FGA": 822,
         "FGM": 366,
         "FTA": 319,
         "FTM": 281,
         "Minutes": 1533
        },
        "NYK": {
         "FG3A": 143,
         "FG3M": 53,
         "FGA": 657,
         "FGM": 306,
         "FTA": 287,
         "FTM": 237,
         "Minutes": 1197
        },
        "OKC": {
         "FG3A": 285,
         "FG3M": 96,
         "FGA": 1248,
         "FGM": 552,
         "FTA": 453,
         "FTM": 374,
         "Minutes": 2303
        },
        "ORL": {
         "FG3A": 91,
         "FG3M": 29,
         "FGA": 584,
         "FGM": 250,
         "FTA": 226,
         "FTM": 195,
         "Minutes": 1122
        },
        "PHI": {
         "FG3A": 143,
         "FG3M": 50,
         "FGA": 614,
         "FGM": 280,
         "FTA": 169,
         "FTM": 142,
         "Minutes": 1169
        },
        "PHX": {
         "FG3A": 259,
         "FG3M": 80,
         "FGA": 1282,
         "FGM": 593,
         "FTA": 470,
         "FTM": 398,
         "Minutes": 2348
        },
        "POR": {
         "FG3A": 280,
         "FG3M": 87,
         "FGA": 1255,
         "FGM": 587,
         "FTA": 515,
         "FTM": 430,
         "Minutes": 2342
        },
        "SAC": {
         "FG3A": 269,
         "FG3M": 89,
         "FGA": 1265,
         "FGM": 578,
         "FTA": 539,
         "FTM": 452,
         "Minutes": 2358
        },
        "SAS": {
         "FG3A": 230,
         "FG3M": 67,
         "FGA": 1267,
         "FGM": 540,
         "FTA": 345,
         "FTM": 290,
         "Minutes": 2257
        },
        "TOR": {
         "FG3A": 143,
         "FG3M": 51,
         "FGA": 664,
         "FGM": 313,
         "FTA": 254,
         "FTM": 214,
         "Minutes": 1205
        },
        "UTA": {
         "FG3A": 250,
         "FG3M": 87,
         "FGA": 1115,
         "FGM": 495,
         "FTA": 572,
         "FTM": 472,
         "Minutes": 2167
        },
        "WAS": {
         "FG3A": 152,
         "FG3M": 61,
         "FGA": 600,
         "FGM": 261,
         "FTA": 282,
         "FTM": 233,
         "Minutes": 1129
        }
       }
      },
      "text/plain": [
       "<IPython.core.display.JSON object>"
      ]
     },
     "execution_count": 14,
     "metadata": {
      "application/json": {
       "expanded": false,
       "root": "root"
      }
     },
     "output_type": "execute_result"
    }
   ],
   "source": [
    "d = {}\n",
    "mean_json = mean_df.to_json(orient = \"index\")\n",
    "total_json = total_df.to_json(orient = \"index\")\n",
    "highlight_json = highlight_df.to_json(orient = \"index\")\n",
    "import json\n",
    "d[\"mean\"] = json.loads(mean_json)\n",
    "d[\"total\"] = json.loads(total_json)\n",
    "d[\"highlight\"] = json.loads(highlight_json)\n",
    "from IPython.display import JSON\n",
    "JSON(d)"
   ]
  },
  {
   "cell_type": "code",
   "execution_count": 15,
   "metadata": {},
   "outputs": [],
   "source": [
    "pd.DataFrame(d).to_json(\"../dist/assets/data/game_stats.json\")"
   ]
  },
  {
   "cell_type": "code",
   "execution_count": null,
   "metadata": {},
   "outputs": [],
   "source": []
  }
 ],
 "metadata": {
  "kernelspec": {
   "display_name": "kobe",
   "language": "python",
   "name": "kobe"
  },
  "language_info": {
   "codemirror_mode": {
    "name": "ipython",
    "version": 3
   },
   "file_extension": ".py",
   "mimetype": "text/x-python",
   "name": "python",
   "nbconvert_exporter": "python",
   "pygments_lexer": "ipython3",
   "version": "3.8.8-final"
  }
 },
 "nbformat": 4,
 "nbformat_minor": 4
}